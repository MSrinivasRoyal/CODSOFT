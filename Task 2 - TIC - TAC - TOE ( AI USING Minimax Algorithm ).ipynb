{
 "cells": [
  {
   "cell_type": "code",
   "execution_count": 1,
   "id": "0701f102",
   "metadata": {},
   "outputs": [],
   "source": [
    "import random"
   ]
  },
  {
   "cell_type": "code",
   "execution_count": 2,
   "id": "19fc3538",
   "metadata": {},
   "outputs": [],
   "source": [
    "board = [' ' for _ in range(9)]"
   ]
  },
  {
   "cell_type": "code",
   "execution_count": 3,
   "id": "ad199323",
   "metadata": {},
   "outputs": [],
   "source": [
    "def display_board(board):\n",
    "    print(f\"{board[0]} | {board[1]} | {board[2]}\")\n",
    "    print(\"---------\")\n",
    "    print(f\"{board[3]} | {board[4]} | {board[5]}\")\n",
    "    print(\"---------\")\n",
    "    print(f\"{board[6]} | {board[7]} | {board[8]}\")"
   ]
  },
  {
   "cell_type": "code",
   "execution_count": 4,
   "id": "b7810afd",
   "metadata": {},
   "outputs": [],
   "source": [
    "def is_board_full(board):\n",
    "    return ' ' not in board"
   ]
  },
  {
   "cell_type": "code",
   "execution_count": 5,
   "id": "7c0757c3",
   "metadata": {},
   "outputs": [],
   "source": [
    "def is_winner(board, player):\n",
    "    # Check rows, columns, and diagonals\n",
    "    winning_combinations = [\n",
    "        [board[0], board[1], board[2]],\n",
    "        [board[3], board[4], board[5]],\n",
    "        [board[6], board[7], board[8]],\n",
    "        [board[0], board[3], board[6]],\n",
    "        [board[1], board[4], board[7]],\n",
    "        [board[2], board[5], board[8]],\n",
    "        [board[0], board[4], board[8]],\n",
    "        [board[2], board[4], board[6]]\n",
    "    ]\n",
    "    return [player, player, player] in winning_combinations"
   ]
  },
  {
   "cell_type": "code",
   "execution_count": 6,
   "id": "3775c3d5",
   "metadata": {},
   "outputs": [],
   "source": [
    "def minimax(board, depth, maximizing_player):\n",
    "    if is_winner(board, 'X'):\n",
    "        return -1\n",
    "    if is_winner(board, 'O'):\n",
    "        return 1\n",
    "    if is_board_full(board):\n",
    "        return 0\n",
    "\n",
    "    if maximizing_player:\n",
    "        max_eval = -float(\"inf\")\n",
    "        for i in range(9):\n",
    "            if board[i] == ' ':\n",
    "                board[i] = 'O'\n",
    "                eval = minimax(board, depth + 1, False)\n",
    "                board[i] = ' '\n",
    "                max_eval = max(max_eval, eval)\n",
    "        return max_eval\n",
    "    else:\n",
    "        min_eval = float(\"inf\")\n",
    "        for i in range(9):\n",
    "            if board[i] == ' ':\n",
    "                board[i] = 'X'\n",
    "                eval = minimax(board, depth + 1, True)\n",
    "                board[i] = ' '\n",
    "                min_eval = min(min_eval, eval)\n",
    "        return min_eval"
   ]
  },
  {
   "cell_type": "code",
   "execution_count": 7,
   "id": "16f117c0",
   "metadata": {},
   "outputs": [],
   "source": [
    "def find_best_move(board):\n",
    "    best_move = -1\n",
    "    best_eval = -float(\"inf\")\n",
    "    for i in range(9):\n",
    "        if board[i] == ' ':\n",
    "            board[i] = 'O'\n",
    "            eval = minimax(board, 0, False)\n",
    "            board[i] = ' '\n",
    "            if eval > best_eval:\n",
    "                best_eval = eval\n",
    "                best_move = i\n",
    "    return best_move"
   ]
  },
  {
   "cell_type": "code",
   "execution_count": 8,
   "id": "d72a3125",
   "metadata": {},
   "outputs": [
    {
     "name": "stdout",
     "output_type": "stream",
     "text": [
      "  |   |  \n",
      "---------\n",
      "  |   |  \n",
      "---------\n",
      "  |   |  \n",
      "Enter your move (0-8): 4\n",
      "O |   |  \n",
      "---------\n",
      "  | X |  \n",
      "---------\n",
      "  |   |  \n",
      "Enter your move (0-8): 5\n",
      "O |   |  \n",
      "---------\n",
      "O | X | X\n",
      "---------\n",
      "  |   |  \n",
      "Enter your move (0-8): 6\n",
      "O |   | O\n",
      "---------\n",
      "O | X | X\n",
      "---------\n",
      "X |   |  \n",
      "Enter your move (0-8): 1\n",
      "O | X | O\n",
      "---------\n",
      "O | X | X\n",
      "---------\n",
      "X | O |  \n",
      "Enter your move (0-8): 8\n",
      "O | X | O\n",
      "---------\n",
      "O | X | X\n",
      "---------\n",
      "X | O | X\n",
      "It's a draw!\n"
     ]
    }
   ],
   "source": [
    "while True:\n",
    "    display_board(board)\n",
    "    player_move = int(input(\"Enter your move (0-8): \"))\n",
    "    \n",
    "    if board[player_move] == ' ':\n",
    "        board[player_move] = 'X'\n",
    "    else:\n",
    "        print(\"Invalid move. Try again.\")\n",
    "        continue\n",
    "\n",
    "    if is_winner(board, 'X'):\n",
    "        display_board(board)\n",
    "        print(\"You win!\")\n",
    "        break\n",
    "\n",
    "    if is_board_full(board):\n",
    "        display_board(board)\n",
    "        print(\"It's a draw!\")\n",
    "        break\n",
    "\n",
    "    ai_move = find_best_move(board)\n",
    "    board[ai_move] = 'O'\n",
    "\n",
    "    if is_winner(board, 'O'):\n",
    "        display_board(board)\n",
    "        print(\"AI wins!\")\n",
    "        break\n",
    "\n",
    "    if is_board_full(board):\n",
    "        display_board(board)\n",
    "        print(\"It's a draw!\")\n",
    "        break"
   ]
  },
  {
   "cell_type": "code",
   "execution_count": null,
   "id": "d4f6256a",
   "metadata": {},
   "outputs": [],
   "source": []
  }
 ],
 "metadata": {
  "kernelspec": {
   "display_name": "Python 3 (ipykernel)",
   "language": "python",
   "name": "python3"
  },
  "language_info": {
   "codemirror_mode": {
    "name": "ipython",
    "version": 3
   },
   "file_extension": ".py",
   "mimetype": "text/x-python",
   "name": "python",
   "nbconvert_exporter": "python",
   "pygments_lexer": "ipython3",
   "version": "3.11.5"
  }
 },
 "nbformat": 4,
 "nbformat_minor": 5
}
