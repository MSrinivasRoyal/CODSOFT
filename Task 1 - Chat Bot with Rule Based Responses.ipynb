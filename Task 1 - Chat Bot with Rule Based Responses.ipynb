{
 "cells": [
  {
   "cell_type": "code",
   "execution_count": 1,
   "id": "dcb296b2",
   "metadata": {},
   "outputs": [],
   "source": [
    "import re"
   ]
  },
  {
   "cell_type": "code",
   "execution_count": 2,
   "id": "8cae6940",
   "metadata": {},
   "outputs": [],
   "source": [
    "response_rules = {\n",
    "    \"hello\": \"Hello! How can I help you?\",\n",
    "    \"hi\": \"Hello! How can I help you?\",\n",
    "    \"what is your name\": \"I'm a chatbot designed to assist you.\",\n",
    "    \"who created you\": \"I was created by M. Srinivas Royal\",\n",
    "    \"bye\": \"Goodbye! Have a great day!\",\n",
    "    \"weather\": \"I'm not able to provide real-time weather information. You can check a weather website or app for that.\",\n",
    "    \"tell me a joke\": \"Sure, here's one: Why did the computer keep freezing? Because it left its Windows open!\",\n",
    "    \"help\": \"I'm here to answer your questions. Please ask anything you'd like to know.\",\n",
    "    \"suggest a book\": \"I recommend 'The Hitchhiker's Guide to the Galaxy' by Douglas Adams. It's a great read!\",\n",
    "    \"what's your favorite color\": \"I don't have personal preferences, but what's your favorite color?\",\n",
    "    \"how old are you\": \"I'm just a computer program, so I don't have an age.\",\n",
    "    \"tell me a fact\": \"Here's a fun fact: Honey never spoils. Archaeologists have found pots of honey in ancient Egyptian tombs that are over 3,000 years old and still perfectly edible!\",\n",
    "    \"tell me another joke\": \"Sure, here's one: Why don't scientists trust atoms? Because they make up everything!\",\n",
    "    \"what is the capital of France\": \"The capital of France is Paris.\",\n",
    "    \"how to stay healthy\": \"Maintaining a balanced diet and regular exercise are essential for good health. It's also important to get enough sleep and manage stress.\",\n",
    "    \"what is COVID-19\": \"COVID-19 is a highly contagious respiratory illness caused by the coronavirus SARS-CoV-2. It has led to a global pandemic, and preventive measures include wearing masks, practicing social distancing, and vaccination.\",\n",
    "    \"how to manage stress\": \"To manage stress, consider relaxation techniques like deep breathing, meditation, or yoga. It's also helpful to maintain a support system and seek professional help if needed.\",\n",
    "    \"solve 3 + 5\": \"3 + 5 equals 8.\",\n",
    "    \"what is the meaning of life\": \"The meaning of life is a philosophical question with no single answer. It varies from person to person and can involve personal values, goals, and beliefs.\",\n",
    "    \"how to improve mental health\": \"To improve mental health, consider activities like exercising, maintaining social connections, practicing mindfulness, and seeking professional help when necessary.\",\n",
    "    \"tell me an interesting science fact\": \"Sure, here's one: Honey never spoils. Archaeologists have found pots of honey in ancient Egyptian tombs that are over 3,000 years old and still perfectly edible!\",\n",
    "    \"what is global warming\": \"Global warming refers to the long-term increase in Earth's average surface temperature due to human activities, primarily the release of greenhouse gases. It leads to climate change and has environmental consequences.\",\n",
    "}"
   ]
  },
  {
   "cell_type": "code",
   "execution_count": 3,
   "id": "f08e72af",
   "metadata": {},
   "outputs": [],
   "source": [
    "def get_response(user_input):\n",
    "    user_input = user_input.lower()\n",
    "    for pattern, response in response_rules.items():\n",
    "        if re.search(r'\\b' + re.escape(pattern) + r'\\b', user_input):\n",
    "            return response\n",
    "    return \"I'm not sure I understand. Please ask another question.\""
   ]
  },
  {
   "cell_type": "code",
   "execution_count": 4,
   "id": "dd3b994b",
   "metadata": {},
   "outputs": [
    {
     "name": "stdout",
     "output_type": "stream",
     "text": [
      "Chatbot: Hello! I'm here to assist you. Type 'bye' to exit.\n",
      "You: hi\n",
      "Chatbot: Hello! How can I help you?\n",
      "You: what is your name?\n",
      "Chatbot: I'm a chatbot designed to assist you.\n",
      "You: who created you\n",
      "Chatbot: I was created by M. Srinivas Royal\n",
      "You: tell me a joke\n",
      "Chatbot: Sure, here's one: Why did the computer keep freezing? Because it left its Windows open!\n",
      "You: tell me another joke\n",
      "Chatbot: Sure, here's one: Why don't scientists trust atoms? Because they make up everything!\n",
      "You: how to stay healthy\n",
      "Chatbot: Maintaining a balanced diet and regular exercise are essential for good health. It's also important to get enough sleep and manage stress.\n",
      "You: suggest a book\n",
      "Chatbot: I recommend 'The Hitchhiker's Guide to the Galaxy' by Douglas Adams. It's a great read!\n",
      "You: bye\n",
      "Chatbot: Goodbye! Have a great day!\n"
     ]
    }
   ],
   "source": [
    "print(\"Chatbot: Hello! I'm here to assist you. Type 'bye' to exit.\")\n",
    "while True:\n",
    "    user_input = input(\"You: \")\n",
    "    response = get_response(user_input)\n",
    "    print(\"Chatbot:\", response)\n",
    "\n",
    "    # Exit the chatbot if the user says 'bye'\n",
    "    if \"bye\" in user_input.lower():\n",
    "        break"
   ]
  },
  {
   "cell_type": "code",
   "execution_count": null,
   "id": "0a68104e",
   "metadata": {},
   "outputs": [],
   "source": []
  }
 ],
 "metadata": {
  "kernelspec": {
   "display_name": "Python 3 (ipykernel)",
   "language": "python",
   "name": "python3"
  },
  "language_info": {
   "codemirror_mode": {
    "name": "ipython",
    "version": 3
   },
   "file_extension": ".py",
   "mimetype": "text/x-python",
   "name": "python",
   "nbconvert_exporter": "python",
   "pygments_lexer": "ipython3",
   "version": "3.11.5"
  }
 },
 "nbformat": 4,
 "nbformat_minor": 5
}
