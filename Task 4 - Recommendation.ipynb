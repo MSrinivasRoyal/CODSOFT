{
 "cells": [
  {
   "cell_type": "code",
   "execution_count": 46,
   "id": "1ded59aa",
   "metadata": {},
   "outputs": [],
   "source": [
    "import pandas as pd\n",
    "from sklearn.feature_extraction.text import TfidfVectorizer\n",
    "from sklearn.metrics.pairwise import linear_kernel"
   ]
  },
  {
   "cell_type": "code",
   "execution_count": 47,
   "id": "84e4b7cf",
   "metadata": {},
   "outputs": [],
   "source": [
    "data = pd.read_csv(\"netflix_titles.csv\")\n",
    "\n",
    "data['content'] = data['title'] + \" \" + data['type']\n",
    "\n",
    "tfidf_vectorizer = TfidfVectorizer(stop_words='english')\n",
    "tfidf_matrix = tfidf_vectorizer.fit_transform(data['content'])\n",
    "\n",
    "cosine_sim = linear_kernel(tfidf_matrix, tfidf_matrix)\n"
   ]
  },
  {
   "cell_type": "code",
   "execution_count": 48,
   "id": "c0cda168",
   "metadata": {},
   "outputs": [],
   "source": [
    "def get_recommendations(title, cosine_sim=cosine_sim):\n",
    "    \n",
    "    idx = data[data['title'] == title].index[0]\n",
    "\n",
    "    sim_scores = list(enumerate(cosine_sim[idx]))\n",
    "\n",
    "    sim_scores = sorted(sim_scores, key=lambda x: x[1], reverse=True)\n",
    "\n",
    "    sim_scores = sim_scores[1:11]\n",
    "\n",
    "    title_indices = [i[0] for i in sim_scores]\n",
    "\n",
    "    return data['title'].iloc[title_indices]\n"
   ]
  },
  {
   "cell_type": "code",
   "execution_count": 45,
   "id": "5f433643",
   "metadata": {
    "scrolled": true
   },
   "outputs": [
    {
     "name": "stdout",
     "output_type": "stream",
     "text": [
      "193                  D.P.\n",
      "459     Never Have I Ever\n",
      "510               Between\n",
      "658         Nevertheless,\n",
      "902                  Mine\n",
      "1217              The One\n",
      "1611      Are You The One\n",
      "1800                 Move\n",
      "1851           One on One\n",
      "2069                    H\n",
      "Name: title, dtype: object\n"
     ]
    }
   ],
   "source": [
    "recommendations = get_recommendations(\"Ganglands\")\n",
    "print(recommendations)"
   ]
  },
  {
   "cell_type": "code",
   "execution_count": null,
   "id": "4a9f4b51",
   "metadata": {},
   "outputs": [],
   "source": []
  }
 ],
 "metadata": {
  "kernelspec": {
   "display_name": "Python 3 (ipykernel)",
   "language": "python",
   "name": "python3"
  },
  "language_info": {
   "codemirror_mode": {
    "name": "ipython",
    "version": 3
   },
   "file_extension": ".py",
   "mimetype": "text/x-python",
   "name": "python",
   "nbconvert_exporter": "python",
   "pygments_lexer": "ipython3",
   "version": "3.11.5"
  }
 },
 "nbformat": 4,
 "nbformat_minor": 5
}
